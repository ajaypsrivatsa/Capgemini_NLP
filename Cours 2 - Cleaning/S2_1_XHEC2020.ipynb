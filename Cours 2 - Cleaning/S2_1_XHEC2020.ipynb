{
 "cells": [
  {
   "cell_type": "markdown",
   "metadata": {},
   "source": [
    "# Import files"
   ]
  },
  {
   "cell_type": "code",
   "execution_count": 1,
   "metadata": {},
   "outputs": [
    {
     "name": "stderr",
     "output_type": "stream",
     "text": [
      "[nltk_data] Downloading package punkt to\n",
      "[nltk_data]     /Users/ismailmesbout/nltk_data...\n",
      "[nltk_data]   Package punkt is already up-to-date!\n"
     ]
    },
    {
     "data": {
      "text/plain": [
       "True"
      ]
     },
     "execution_count": 1,
     "metadata": {},
     "output_type": "execute_result"
    }
   ],
   "source": [
    "# Import classic and useful libraries\n",
    "import pandas as pd \n",
    "import numpy as np \n",
    "import nltk\n",
    "nltk.download('punkt')"
   ]
  },
  {
   "cell_type": "code",
   "execution_count": 2,
   "metadata": {},
   "outputs": [],
   "source": [
    "DATAPATH = \"data/\""
   ]
  },
  {
   "cell_type": "markdown",
   "metadata": {},
   "source": [
    "## Text files"
   ]
  },
  {
   "cell_type": "code",
   "execution_count": 3,
   "metadata": {},
   "outputs": [
    {
     "name": "stderr",
     "output_type": "stream",
     "text": [
      "[nltk_data] Downloading package gutenberg to\n",
      "[nltk_data]     /Users/ismailmesbout/nltk_data...\n",
      "[nltk_data]   Package gutenberg is already up-to-date!\n"
     ]
    },
    {
     "data": {
      "text/plain": [
       "\"[Alice's Adventures in Wonderland by Lewis Carroll 1865]\\n\\nCHAPTER I. Down the Rabbit-Hole\\n\\nAlice was beginning to get very tired of sitting by her sister on the\\nbank, and of having nothing to do: once or twice she had peeped into the\\nbook her sister was reading, but it had no pictures or conversations in\\nit, 'and what is the use of a book,' thought Alice 'without pictures or\\nconversation?'\\n\\nSo she was considering in her own mind (as well as she could, for the\\nhot day made her feel very sleepy and stupid), whether the pleasure\\nof making a daisy-chain would be worth the trouble of getting up and\\npicking the daisies, when suddenly a White Rabbit with pink eyes ran\\nclose by her.\\n\\nThere was nothing so VERY remarkable in that; nor did Alice think it so\\nVERY much out of the way to hear the Rabbit say to itself, 'Oh dear!\\nOh dear! I shall be late!' (when she thought it over afterwards, it\\noccurred to her that she ought to have wondered at this, but at the time\\nit all seemed quite natural); but\""
      ]
     },
     "execution_count": 3,
     "metadata": {},
     "output_type": "execute_result"
    }
   ],
   "source": [
    "nltk.download('gutenberg')\n",
    "alice_raw= nltk.corpus.gutenberg.raw('carroll-alice.txt')\n",
    "alice_raw[:1000]"
   ]
  },
  {
   "cell_type": "markdown",
   "metadata": {},
   "source": [
    "## HTML files"
   ]
  },
  {
   "cell_type": "code",
   "execution_count": 4,
   "metadata": {},
   "outputs": [
    {
     "data": {
      "text/plain": [
       "b'<!DOCTYPE html>\\n<html class=\"client-nojs\" lang=\"en\" dir=\"ltr\">\\n<head>\\n<meta charset=\"UTF-8\"/>\\n<title>Python (programming language) - Wikipedia</title>\\n<script>document.documentElement.className=\"client-js\";RLCONF={\"wgBreakFrames\":!1,\"wgSeparatorTransformTable\":[\"\",\"\"],\"wgDigitTransformTable\":[\"\",\"\"],\"wgDefaultDateFormat\":\"dmy\",\"wgMonthNames\":[\"\",\"January\",\"February\",\"March\",\"April\",\"May\",\"June\",\"July\",\"August\",\"September\",\"October\",\"November\",\"December\"],\"wgRequestId\":\"YBfEyIRDRfOE4nOeUIkUHAAAAMk\",\"wgCSPNonce\":!1,\"wgCanonicalNamespace\":\"\",\"wgCanonicalSpecialPageName\":!1,\"wgNamespaceNumber\":0,\"wgPageName\":\"Python_(programming_language)\",\"wgTitle\":\"Python (programming language)\",\"wgCurRevisionId\":1004154400,\"wgRevisionId\":1004154400,\"wgArticleId\":23862,\"wgIsArticle\":!0,\"wgIsRedirect\":!1,\"wgAction\":\"view\",\"wgUserName\":null,\"wgUserGroups\":[\"*\"],\"wgCategories\":[\"Articles with short description\",\"Short description is different from Wikidata\",\"Use dmy dates from August 2020\",\"Articles contain'"
      ]
     },
     "execution_count": 4,
     "metadata": {},
     "output_type": "execute_result"
    }
   ],
   "source": [
    "import urllib.request\n",
    "url = \"https://en.wikipedia.org/wiki/Python_(programming_language)\"\n",
    "response = urllib.request.urlopen(url)\n",
    "html_text = response.read()\n",
    "html_text[:1000]"
   ]
  },
  {
   "cell_type": "code",
   "execution_count": 5,
   "metadata": {},
   "outputs": [
    {
     "data": {
      "text/plain": [
       "['\\n',\n",
       " \"Python is an interpreted, high-level and general-purpose programming language. Python's design philosophy emphasizes code readability with its notable use of significant whitespace. Its language constructs and object-oriented approach aim to help programmers write clear, logical code for small and large-scale projects.[29]\\n\",\n",
       " 'Python is dynamically-typed and garbage-collected. It supports multiple programming paradigms, including structured (particularly, procedural), object-oriented and functional programming. Python is often described as a \"batteries included\" language due to its comprehensive standard library.[30]\\n',\n",
       " \"Python was created in the late 1980s, and first released in 1991, by Guido van Rossum as a successor to the ABC programming language. Python\\xa02.0, released in 2000, introduced new features, such as list comprehensions, and a garbage collection system with reference counting, and was discontinued with version 2.7 in 2020.[31] Python\\xa03.0, released in 2008, was a major revision of the language that is not completely backward-compatible and much Python\\xa02 code does not run unmodified on Python\\xa03. With Python 2's end-of-life (and pip having dropped support in 2021[32]), only Python\\xa03.6.x[33] and later are supported, with older versions still supporting e.g. Windows 7 (and old installers not restricted to 64-bit Windows).\\n\",\n",
       " 'Python interpreters are supported for mainstream operating systems and available for a few more (and in the past supported many more). A global community of programmers develops and maintains CPython, a free and open-source[34] reference implementation. A non-profit organization, the Python Software Foundation, manages and directs resources for Python and CPython development.\\n']"
      ]
     },
     "execution_count": 5,
     "metadata": {},
     "output_type": "execute_result"
    }
   ],
   "source": [
    "from bs4 import BeautifulSoup\n",
    "soup = BeautifulSoup(html_text)\n",
    "\n",
    "paragraphs = [p_tag.text for p_tag in soup.find_all('p')]\n",
    "paragraphs[:5]"
   ]
  },
  {
   "cell_type": "markdown",
   "metadata": {},
   "source": [
    "## URL Link"
   ]
  },
  {
   "cell_type": "code",
   "execution_count": 6,
   "metadata": {},
   "outputs": [
    {
     "data": {
      "text/plain": [
       "\"The Project Gutenberg EBook of Homer's Odyssey\""
      ]
     },
     "execution_count": 6,
     "metadata": {},
     "output_type": "execute_result"
    }
   ],
   "source": [
    "url = \"http://www.gutenberg.org/cache/epub/26275/pg26275.txt\"\n",
    "response = urllib.request.urlopen(url)\n",
    "odyssey_str = response.read().decode(\"utf-8-sig\")\n",
    "odyssey_str[0:46]"
   ]
  },
  {
   "cell_type": "markdown",
   "metadata": {},
   "source": [
    "## CSV files"
   ]
  },
  {
   "cell_type": "code",
   "execution_count": 7,
   "metadata": {
    "ExecuteTime": {
     "end_time": "2020-01-29T12:58:26.512255Z",
     "start_time": "2020-01-29T12:58:26.475477Z"
    }
   },
   "outputs": [
    {
     "data": {
      "text/html": [
       "<div>\n",
       "<style scoped>\n",
       "    .dataframe tbody tr th:only-of-type {\n",
       "        vertical-align: middle;\n",
       "    }\n",
       "\n",
       "    .dataframe tbody tr th {\n",
       "        vertical-align: top;\n",
       "    }\n",
       "\n",
       "    .dataframe thead th {\n",
       "        text-align: right;\n",
       "    }\n",
       "</style>\n",
       "<table border=\"1\" class=\"dataframe\">\n",
       "  <thead>\n",
       "    <tr style=\"text-align: right;\">\n",
       "      <th></th>\n",
       "      <th>0</th>\n",
       "      <th>1</th>\n",
       "      <th>2</th>\n",
       "      <th>3</th>\n",
       "      <th>4</th>\n",
       "    </tr>\n",
       "  </thead>\n",
       "  <tbody>\n",
       "    <tr>\n",
       "      <th>0</th>\n",
       "      <td>title</td>\n",
       "      <td>name</td>\n",
       "      <td>content</td>\n",
       "      <td>date</td>\n",
       "      <td>stars</td>\n",
       "    </tr>\n",
       "    <tr>\n",
       "      <th>1</th>\n",
       "      <td>Week-end</td>\n",
       "      <td>\\n            Cor Boonen\\n</td>\n",
       "      <td>\\n            Nous avons passé un excellent we...</td>\n",
       "      <td>2018-11-22 17:23:07</td>\n",
       "      <td>4</td>\n",
       "    </tr>\n",
       "    <tr>\n",
       "      <th>2</th>\n",
       "      <td>Les TROIS FORETS</td>\n",
       "      <td>\\n            Alain \\n</td>\n",
       "      <td>\\n            Parc très agréable, difficile de...</td>\n",
       "      <td>2018-08-08 07:52:09</td>\n",
       "      <td>3</td>\n",
       "    </tr>\n",
       "    <tr>\n",
       "      <th>3</th>\n",
       "      <td>Pas grand chose ne marche !</td>\n",
       "      <td>\\n            Manuele Civico\\n</td>\n",
       "      <td>\\n            Pas grand chose ne marche, ni l’...</td>\n",
       "      <td>2018-05-12 10:02:58</td>\n",
       "      <td>1</td>\n",
       "    </tr>\n",
       "    <tr>\n",
       "      <th>4</th>\n",
       "      <td>Non professionnel</td>\n",
       "      <td>\\n            Sophie Duhamel\\n</td>\n",
       "      <td>\\n            Moi je vais parler aujourd'hui  ...</td>\n",
       "      <td>2017-09-15 11:17:50</td>\n",
       "      <td>1</td>\n",
       "    </tr>\n",
       "  </tbody>\n",
       "</table>\n",
       "</div>"
      ],
      "text/plain": [
       "                             0                                       1  \\\n",
       "0                        title                                    name   \n",
       "1                     Week-end      \\n            Cor Boonen\\n           \n",
       "2             Les TROIS FORETS          \\n            Alain \\n           \n",
       "3  Pas grand chose ne marche !  \\n            Manuele Civico\\n           \n",
       "4            Non professionnel  \\n            Sophie Duhamel\\n           \n",
       "\n",
       "                                                   2                    3  \\\n",
       "0                                            content                 date   \n",
       "1  \\n            Nous avons passé un excellent we...  2018-11-22 17:23:07   \n",
       "2  \\n            Parc très agréable, difficile de...  2018-08-08 07:52:09   \n",
       "3  \\n            Pas grand chose ne marche, ni l’...  2018-05-12 10:02:58   \n",
       "4  \\n            Moi je vais parler aujourd'hui  ...  2017-09-15 11:17:50   \n",
       "\n",
       "       4  \n",
       "0  stars  \n",
       "1      4  \n",
       "2      3  \n",
       "3      1  \n",
       "4      1  "
      ]
     },
     "execution_count": 7,
     "metadata": {},
     "output_type": "execute_result"
    }
   ],
   "source": [
    "comments_bis = pd.read_csv(DATAPATH+\"Reviews.csv\", header=None)\n",
    "comments_bis.head()"
   ]
  },
  {
   "cell_type": "markdown",
   "metadata": {},
   "source": [
    "## JSON files"
   ]
  },
  {
   "cell_type": "code",
   "execution_count": 9,
   "metadata": {
    "ExecuteTime": {
     "end_time": "2020-01-29T12:58:26.564924Z",
     "start_time": "2020-01-29T12:58:26.517070Z"
    }
   },
   "outputs": [
    {
     "data": {
      "text/html": [
       "<div>\n",
       "<style scoped>\n",
       "    .dataframe tbody tr th:only-of-type {\n",
       "        vertical-align: middle;\n",
       "    }\n",
       "\n",
       "    .dataframe tbody tr th {\n",
       "        vertical-align: top;\n",
       "    }\n",
       "\n",
       "    .dataframe thead th {\n",
       "        text-align: right;\n",
       "    }\n",
       "</style>\n",
       "<table border=\"1\" class=\"dataframe\">\n",
       "  <thead>\n",
       "    <tr style=\"text-align: right;\">\n",
       "      <th></th>\n",
       "      <th>title</th>\n",
       "      <th>name</th>\n",
       "      <th>content</th>\n",
       "      <th>date</th>\n",
       "      <th>stars</th>\n",
       "    </tr>\n",
       "  </thead>\n",
       "  <tbody>\n",
       "    <tr>\n",
       "      <th>0</th>\n",
       "      <td>Week-end</td>\n",
       "      <td>\\n            Cor Boonen\\n</td>\n",
       "      <td>\\n            Nous avons passé un excellent we...</td>\n",
       "      <td>2018-11-22 17:23:07</td>\n",
       "      <td>4</td>\n",
       "    </tr>\n",
       "    <tr>\n",
       "      <th>1</th>\n",
       "      <td>Les TROIS FORETS</td>\n",
       "      <td>\\n            Alain \\n</td>\n",
       "      <td>\\n            Parc très agréable, difficile de...</td>\n",
       "      <td>2018-08-08 07:52:09</td>\n",
       "      <td>3</td>\n",
       "    </tr>\n",
       "    <tr>\n",
       "      <th>2</th>\n",
       "      <td>Pas grand chose ne marche !</td>\n",
       "      <td>\\n            Manuele Civico\\n</td>\n",
       "      <td>\\n            Pas grand chose ne marche, ni l’...</td>\n",
       "      <td>2018-05-12 10:02:58</td>\n",
       "      <td>1</td>\n",
       "    </tr>\n",
       "    <tr>\n",
       "      <th>3</th>\n",
       "      <td>Non professionnel</td>\n",
       "      <td>\\n            Sophie Duhamel\\n</td>\n",
       "      <td>\\n            Moi je vais parler aujourd'hui  ...</td>\n",
       "      <td>2017-09-15 11:17:50</td>\n",
       "      <td>1</td>\n",
       "    </tr>\n",
       "    <tr>\n",
       "      <th>4</th>\n",
       "      <td>bon séjour</td>\n",
       "      <td>\\n            jerome\\n</td>\n",
       "      <td>\\n            calme, reposant, confortable, dé...</td>\n",
       "      <td>2016-10-11 07:54:28</td>\n",
       "      <td>5</td>\n",
       "    </tr>\n",
       "  </tbody>\n",
       "</table>\n",
       "</div>"
      ],
      "text/plain": [
       "                         title                                    name  \\\n",
       "0                     Week-end      \\n            Cor Boonen\\n           \n",
       "1             Les TROIS FORETS          \\n            Alain \\n           \n",
       "2  Pas grand chose ne marche !  \\n            Manuele Civico\\n           \n",
       "3            Non professionnel  \\n            Sophie Duhamel\\n           \n",
       "4                   bon séjour          \\n            jerome\\n           \n",
       "\n",
       "                                             content                date  \\\n",
       "0  \\n            Nous avons passé un excellent we... 2018-11-22 17:23:07   \n",
       "1  \\n            Parc très agréable, difficile de... 2018-08-08 07:52:09   \n",
       "2  \\n            Pas grand chose ne marche, ni l’... 2018-05-12 10:02:58   \n",
       "3  \\n            Moi je vais parler aujourd'hui  ... 2017-09-15 11:17:50   \n",
       "4  \\n            calme, reposant, confortable, dé... 2016-10-11 07:54:28   \n",
       "\n",
       "   stars  \n",
       "0      4  \n",
       "1      3  \n",
       "2      1  \n",
       "3      1  \n",
       "4      5  "
      ]
     },
     "execution_count": 9,
     "metadata": {},
     "output_type": "execute_result"
    }
   ],
   "source": [
    "df = pd.read_json(DATAPATH+'session_3_notebook_1.json')\n",
    "df.head()"
   ]
  },
  {
   "cell_type": "code",
   "execution_count": 8,
   "metadata": {},
   "outputs": [
    {
     "data": {
      "text/plain": [
       "[{'title': 'Week-end',\n",
       "  'name': '\\n            Cor Boonen\\n        ',\n",
       "  'content': '\\n            Nous avons passé un excellent week-end, tout était bien entretenu\\n        ',\n",
       "  'date': '2018-11-22T17:23:07',\n",
       "  'stars': '4'},\n",
       " {'title': 'Les TROIS FORETS',\n",
       "  'name': '\\n            Alain \\n        ',\n",
       "  'content': \"\\n            Parc très agréable, difficile de s'y retrouver au début. Mais on s'y fait à la longue. Le cottage un peu vieilli mais cela peut aller. Au niveau cuisine, il manque un peu de choses (une vrai poele, des couverts en plus quand les premiers sont au lave vaisselle). Cadre très agréable dans la foret surtout avec les fortes chaleurs. La location de la voiture électrique s'est bien passé et très vite (un peu cher sans doute pour la semaine !).\",\n",
       "  'date': '2018-08-08T07:52:09',\n",
       "  'stars': '3'},\n",
       " {'title': 'Pas grand chose ne marche !',\n",
       "  'name': '\\n            Manuele Civico\\n        ',\n",
       "  'content': '\\n            Pas grand chose ne marche, ni l’internet, ni wifi (ce n’en serais pas trop important s’il y avait du réseau) Les cottage sont mal entretenus, j’ai trouvé au petit matin une puce et un tique dans les draps. ',\n",
       "  'date': '2018-05-12T10:02:58',\n",
       "  'stars': '1'}]"
      ]
     },
     "execution_count": 8,
     "metadata": {},
     "output_type": "execute_result"
    }
   ],
   "source": [
    "import json\n",
    "with open(DATAPATH+'session_3_notebook_1.json', 'rb') as f:\n",
    "    file = json.load(f)\n",
    "    \n",
    "file[:3]"
   ]
  },
  {
   "cell_type": "markdown",
   "metadata": {},
   "source": [
    "## Exporting files"
   ]
  },
  {
   "cell_type": "code",
   "execution_count": 10,
   "metadata": {
    "ExecuteTime": {
     "end_time": "2020-01-29T12:58:26.867574Z",
     "start_time": "2020-01-29T12:58:26.577648Z"
    }
   },
   "outputs": [
    {
     "name": "stderr",
     "output_type": "stream",
     "text": [
      "[nltk_data] Downloading package gutenberg to\n",
      "[nltk_data]     /Users/ismailmesbout/nltk_data...\n",
      "[nltk_data]   Package gutenberg is already up-to-date!\n"
     ]
    }
   ],
   "source": [
    "nltk.download('gutenberg')\n",
    "alice = nltk.corpus.gutenberg.words(\"carroll-alice.txt\")\n",
    "alice = ' '.join(alice)\n",
    "new_file = open(DATAPATH+'alice.txt', 'w')\n",
    "new_file.write(alice)\n",
    "new_file.close()"
   ]
  },
  {
   "cell_type": "markdown",
   "metadata": {},
   "source": [
    "# Exploratory Data Analysis"
   ]
  },
  {
   "cell_type": "code",
   "execution_count": 11,
   "metadata": {
    "ExecuteTime": {
     "end_time": "2020-01-29T12:58:27.672921Z",
     "start_time": "2020-01-29T12:58:26.914504Z"
    }
   },
   "outputs": [],
   "source": [
    "# Import useful visualisation librairies\n",
    "import seaborn as sns\n",
    "import matplotlib.pyplot as plt"
   ]
  },
  {
   "cell_type": "markdown",
   "metadata": {},
   "source": [
    "text intro: "
   ]
  },
  {
   "cell_type": "markdown",
   "metadata": {},
   "source": [
    "## Data overview"
   ]
  },
  {
   "cell_type": "code",
   "execution_count": 13,
   "metadata": {
    "ExecuteTime": {
     "end_time": "2020-01-29T12:58:27.723396Z",
     "start_time": "2020-01-29T12:58:27.684992Z"
    }
   },
   "outputs": [
    {
     "name": "stdout",
     "output_type": "stream",
     "text": [
      "(304, 5)\n"
     ]
    },
    {
     "data": {
      "text/html": [
       "<div>\n",
       "<style scoped>\n",
       "    .dataframe tbody tr th:only-of-type {\n",
       "        vertical-align: middle;\n",
       "    }\n",
       "\n",
       "    .dataframe tbody tr th {\n",
       "        vertical-align: top;\n",
       "    }\n",
       "\n",
       "    .dataframe thead th {\n",
       "        text-align: right;\n",
       "    }\n",
       "</style>\n",
       "<table border=\"1\" class=\"dataframe\">\n",
       "  <thead>\n",
       "    <tr style=\"text-align: right;\">\n",
       "      <th></th>\n",
       "      <th>title</th>\n",
       "      <th>name</th>\n",
       "      <th>content</th>\n",
       "      <th>date</th>\n",
       "      <th>stars</th>\n",
       "    </tr>\n",
       "  </thead>\n",
       "  <tbody>\n",
       "    <tr>\n",
       "      <th>0</th>\n",
       "      <td>Week-end</td>\n",
       "      <td>\\n            Cor Boonen\\n</td>\n",
       "      <td>\\n            Nous avons passé un excellent we...</td>\n",
       "      <td>2018-11-22 17:23:07</td>\n",
       "      <td>4</td>\n",
       "    </tr>\n",
       "    <tr>\n",
       "      <th>1</th>\n",
       "      <td>Les TROIS FORETS</td>\n",
       "      <td>\\n            Alain \\n</td>\n",
       "      <td>\\n            Parc très agréable, difficile de...</td>\n",
       "      <td>2018-08-08 07:52:09</td>\n",
       "      <td>3</td>\n",
       "    </tr>\n",
       "    <tr>\n",
       "      <th>2</th>\n",
       "      <td>Pas grand chose ne marche !</td>\n",
       "      <td>\\n            Manuele Civico\\n</td>\n",
       "      <td>\\n            Pas grand chose ne marche, ni l’...</td>\n",
       "      <td>2018-05-12 10:02:58</td>\n",
       "      <td>1</td>\n",
       "    </tr>\n",
       "    <tr>\n",
       "      <th>3</th>\n",
       "      <td>Non professionnel</td>\n",
       "      <td>\\n            Sophie Duhamel\\n</td>\n",
       "      <td>\\n            Moi je vais parler aujourd'hui  ...</td>\n",
       "      <td>2017-09-15 11:17:50</td>\n",
       "      <td>1</td>\n",
       "    </tr>\n",
       "    <tr>\n",
       "      <th>4</th>\n",
       "      <td>bon séjour</td>\n",
       "      <td>\\n            jerome\\n</td>\n",
       "      <td>\\n            calme, reposant, confortable, dé...</td>\n",
       "      <td>2016-10-11 07:54:28</td>\n",
       "      <td>5</td>\n",
       "    </tr>\n",
       "    <tr>\n",
       "      <th>5</th>\n",
       "      <td>renovation des cottages</td>\n",
       "      <td>\\n            sylvie nadot\\n</td>\n",
       "      <td>\\n            les cottages sont dans un etat p...</td>\n",
       "      <td>2016-09-14 19:59:38</td>\n",
       "      <td>3</td>\n",
       "    </tr>\n",
       "    <tr>\n",
       "      <th>6</th>\n",
       "      <td>Génial!!!</td>\n",
       "      <td>\\n            Angélique\\n</td>\n",
       "      <td>\\n            Déjà l'année dernière nous avons...</td>\n",
       "      <td>2016-09-13 19:06:08</td>\n",
       "      <td>4</td>\n",
       "    </tr>\n",
       "    <tr>\n",
       "      <th>7</th>\n",
       "      <td>séjour pourri</td>\n",
       "      <td>\\n            LE PEUCH\\n</td>\n",
       "      <td>\\n            Départ au bout de 2 jour car imp...</td>\n",
       "      <td>2016-06-24 10:28:27</td>\n",
       "      <td>1</td>\n",
       "    </tr>\n",
       "    <tr>\n",
       "      <th>8</th>\n",
       "      <td>super</td>\n",
       "      <td>\\n            COPIN\\n</td>\n",
       "      <td>\\n            je suis très ravis\\n</td>\n",
       "      <td>2016-04-30 14:54:24</td>\n",
       "      <td>5</td>\n",
       "    </tr>\n",
       "    <tr>\n",
       "      <th>9</th>\n",
       "      <td>reservation</td>\n",
       "      <td>\\n            ARCHEREAU\\n</td>\n",
       "      <td>\\n            réservation facile à effectuer, ...</td>\n",
       "      <td>2016-04-24 17:20:22</td>\n",
       "      <td>5</td>\n",
       "    </tr>\n",
       "  </tbody>\n",
       "</table>\n",
       "</div>"
      ],
      "text/plain": [
       "                         title                                    name  \\\n",
       "0                     Week-end      \\n            Cor Boonen\\n           \n",
       "1             Les TROIS FORETS          \\n            Alain \\n           \n",
       "2  Pas grand chose ne marche !  \\n            Manuele Civico\\n           \n",
       "3            Non professionnel  \\n            Sophie Duhamel\\n           \n",
       "4                   bon séjour          \\n            jerome\\n           \n",
       "5      renovation des cottages    \\n            sylvie nadot\\n           \n",
       "6                    Génial!!!       \\n            Angélique\\n           \n",
       "7                séjour pourri        \\n            LE PEUCH\\n           \n",
       "8                        super           \\n            COPIN\\n           \n",
       "9                  reservation       \\n            ARCHEREAU\\n           \n",
       "\n",
       "                                             content                date  \\\n",
       "0  \\n            Nous avons passé un excellent we... 2018-11-22 17:23:07   \n",
       "1  \\n            Parc très agréable, difficile de... 2018-08-08 07:52:09   \n",
       "2  \\n            Pas grand chose ne marche, ni l’... 2018-05-12 10:02:58   \n",
       "3  \\n            Moi je vais parler aujourd'hui  ... 2017-09-15 11:17:50   \n",
       "4  \\n            calme, reposant, confortable, dé... 2016-10-11 07:54:28   \n",
       "5  \\n            les cottages sont dans un etat p... 2016-09-14 19:59:38   \n",
       "6  \\n            Déjà l'année dernière nous avons... 2016-09-13 19:06:08   \n",
       "7  \\n            Départ au bout de 2 jour car imp... 2016-06-24 10:28:27   \n",
       "8         \\n            je suis très ravis\\n         2016-04-30 14:54:24   \n",
       "9  \\n            réservation facile à effectuer, ... 2016-04-24 17:20:22   \n",
       "\n",
       "   stars  \n",
       "0      4  \n",
       "1      3  \n",
       "2      1  \n",
       "3      1  \n",
       "4      5  \n",
       "5      3  \n",
       "6      4  \n",
       "7      1  \n",
       "8      5  \n",
       "9      5  "
      ]
     },
     "execution_count": 13,
     "metadata": {},
     "output_type": "execute_result"
    }
   ],
   "source": [
    "print(df.shape)\n",
    "df.head(10)"
   ]
  },
  {
   "cell_type": "code",
   "execution_count": 14,
   "metadata": {
    "ExecuteTime": {
     "end_time": "2020-01-29T12:58:27.770111Z",
     "start_time": "2020-01-29T12:58:27.738122Z"
    }
   },
   "outputs": [
    {
     "name": "stdout",
     "output_type": "stream",
     "text": [
      "<class 'pandas.core.frame.DataFrame'>\n",
      "RangeIndex: 304 entries, 0 to 303\n",
      "Data columns (total 5 columns):\n",
      " #   Column   Non-Null Count  Dtype         \n",
      "---  ------   --------------  -----         \n",
      " 0   title    304 non-null    object        \n",
      " 1   name     304 non-null    object        \n",
      " 2   content  304 non-null    object        \n",
      " 3   date     304 non-null    datetime64[ns]\n",
      " 4   stars    304 non-null    int64         \n",
      "dtypes: datetime64[ns](1), int64(1), object(3)\n",
      "memory usage: 12.0+ KB\n"
     ]
    }
   ],
   "source": [
    "df.info()"
   ]
  },
  {
   "cell_type": "code",
   "execution_count": 15,
   "metadata": {
    "ExecuteTime": {
     "end_time": "2020-01-29T12:58:27.814697Z",
     "start_time": "2020-01-29T12:58:27.776961Z"
    }
   },
   "outputs": [
    {
     "data": {
      "text/html": [
       "<div>\n",
       "<style scoped>\n",
       "    .dataframe tbody tr th:only-of-type {\n",
       "        vertical-align: middle;\n",
       "    }\n",
       "\n",
       "    .dataframe tbody tr th {\n",
       "        vertical-align: top;\n",
       "    }\n",
       "\n",
       "    .dataframe thead th {\n",
       "        text-align: right;\n",
       "    }\n",
       "</style>\n",
       "<table border=\"1\" class=\"dataframe\">\n",
       "  <thead>\n",
       "    <tr style=\"text-align: right;\">\n",
       "      <th></th>\n",
       "      <th>stars</th>\n",
       "    </tr>\n",
       "  </thead>\n",
       "  <tbody>\n",
       "    <tr>\n",
       "      <th>count</th>\n",
       "      <td>304.000000</td>\n",
       "    </tr>\n",
       "    <tr>\n",
       "      <th>mean</th>\n",
       "      <td>3.684211</td>\n",
       "    </tr>\n",
       "    <tr>\n",
       "      <th>std</th>\n",
       "      <td>1.061918</td>\n",
       "    </tr>\n",
       "    <tr>\n",
       "      <th>min</th>\n",
       "      <td>1.000000</td>\n",
       "    </tr>\n",
       "    <tr>\n",
       "      <th>25%</th>\n",
       "      <td>3.000000</td>\n",
       "    </tr>\n",
       "    <tr>\n",
       "      <th>50%</th>\n",
       "      <td>4.000000</td>\n",
       "    </tr>\n",
       "    <tr>\n",
       "      <th>75%</th>\n",
       "      <td>5.000000</td>\n",
       "    </tr>\n",
       "    <tr>\n",
       "      <th>max</th>\n",
       "      <td>5.000000</td>\n",
       "    </tr>\n",
       "  </tbody>\n",
       "</table>\n",
       "</div>"
      ],
      "text/plain": [
       "            stars\n",
       "count  304.000000\n",
       "mean     3.684211\n",
       "std      1.061918\n",
       "min      1.000000\n",
       "25%      3.000000\n",
       "50%      4.000000\n",
       "75%      5.000000\n",
       "max      5.000000"
      ]
     },
     "execution_count": 15,
     "metadata": {},
     "output_type": "execute_result"
    }
   ],
   "source": [
    "# dataframe.describe only describes numeric columns\n",
    "df.describe()"
   ]
  },
  {
   "cell_type": "markdown",
   "metadata": {},
   "source": [
    "## Bar plot"
   ]
  },
  {
   "cell_type": "code",
   "execution_count": 16,
   "metadata": {
    "ExecuteTime": {
     "end_time": "2020-01-29T12:58:28.121611Z",
     "start_time": "2020-01-29T12:58:27.817934Z"
    }
   },
   "outputs": [
    {
     "name": "stdout",
     "output_type": "stream",
     "text": [
      "Average rating is : 3.68\n"
     ]
    },
    {
     "data": {
      "image/png": "[encoded data removed]",
      "text/plain": [
       "<Figure size 432x288 with 1 Axes>"
      ]
     },
     "metadata": {
      "needs_background": "light"
     },
     "output_type": "display_data"
    }
   ],
   "source": [
    "# Average rating value\n",
    "print('Average rating is : {}'.format(round(df.stars.mean(),2)))\n",
    "\n",
    "# Plotting rating distribution\n",
    "X_ratings = df.stars.value_counts()\n",
    "ax = sns.barplot(X_ratings.index,X_ratings,alpha=0.8)\n",
    "ax.set(xlabel='Ratings',ylabel='Frequencies',title='Frequencies of ratings over the {} reviews'.format(df.shape[0]))\n",
    "plt.show()"
   ]
  },
  {
   "cell_type": "markdown",
   "metadata": {},
   "source": [
    "## Density plot"
   ]
  },
  {
   "cell_type": "code",
   "execution_count": 17,
   "metadata": {
    "ExecuteTime": {
     "end_time": "2020-01-29T12:58:28.473425Z",
     "start_time": "2020-01-29T12:58:28.141527Z"
    }
   },
   "outputs": [
    {
     "data": {
      "image/png": "[encoded data removed]",
      "text/plain": [
       "<Figure size 864x360 with 1 Axes>"
      ]
     },
     "metadata": {
      "needs_background": "light"
     },
     "output_type": "display_data"
    }
   ],
   "source": [
    "# Plot density with histogram\n",
    "x = plt.figure(figsize=(12,5))\n",
    "sns.distplot(df['content'].apply(len))\n",
    "plt.title('Comment length distribution')\n",
    "plt.xticks(range(0,2000,250))\n",
    "plt.show()"
   ]
  },
  {
   "cell_type": "code",
   "execution_count": 18,
   "metadata": {
    "ExecuteTime": {
     "end_time": "2020-01-29T12:58:28.845108Z",
     "start_time": "2020-01-29T12:58:28.475413Z"
    }
   },
   "outputs": [
    {
     "data": {
      "image/png": "[encoded data removed]",
      "text/plain": [
       "<Figure size 432x288 with 1 Axes>"
      ]
     },
     "metadata": {
      "needs_background": "light"
     },
     "output_type": "display_data"
    }
   ],
   "source": [
    "# Visualize dates \n",
    "df.set_index('date')['content'].resample('M').count().plot()\n",
    "plt.show()"
   ]
  },
  {
   "cell_type": "markdown",
   "metadata": {},
   "source": [
    "# Basic text processing"
   ]
  },
  {
   "cell_type": "code",
   "execution_count": null,
   "metadata": {
    "ExecuteTime": {
     "end_time": "2020-01-29T12:58:28.857082Z",
     "start_time": "2020-01-29T12:58:28.852209Z"
    }
   },
   "outputs": [],
   "source": [
    "# With text data we often work with lists at first"
   ]
  },
  {
   "cell_type": "code",
   "execution_count": 27,
   "metadata": {
    "ExecuteTime": {
     "end_time": "2020-01-29T12:58:28.864165Z",
     "start_time": "2020-01-29T12:58:28.858932Z"
    }
   },
   "outputs": [],
   "source": [
    "import re"
   ]
  },
  {
   "cell_type": "code",
   "execution_count": 19,
   "metadata": {
    "ExecuteTime": {
     "end_time": "2020-01-29T12:58:28.904338Z",
     "start_time": "2020-01-29T12:58:28.880511Z"
    }
   },
   "outputs": [
    {
     "data": {
      "text/plain": [
       "['\\n            Nous avons passé un excellent week-end, tout était bien entretenu\\n        ',\n",
       " \"\\n            Parc très agréable, difficile de s'y retrouver au début. Mais on s'y fait à la longue. Le cottage un peu vieilli mais cela peut aller. Au niveau cuisine, il manque un peu de choses (une vrai poele, des couverts en plus quand les premiers sont au lave vaisselle). Cadre très agréable dans la foret surtout avec les fortes chaleurs. La location de la voiture électrique s'est bien passé et très vite (un peu cher sans doute pour la semaine !).\",\n",
       " '\\n            Pas grand chose ne marche, ni l’internet, ni wifi (ce n’en serais pas trop important s’il y avait du réseau) Les cottage sont mal entretenus, j’ai trouvé au petit matin une puce et un tique dans les draps. ',\n",
       " \"\\n            Moi je vais parler aujourd'hui  du service commercial de center parc . J'ai fait une réservation pour deux nuits sur le site de Center parcs au prix de 343 € quelques jours plus tard je vois sur vente-privee la même offre avec une nuit de plus pour 269€. Lors ce que j'appelle le service pour obtenir un geste commercial sachant que je suis cliente fidèle il me réponde: pas de chance pour vous et puis vous n'avez pas pris d'assurance annulation. Je leurs explique que je veux pas annuler mais a titre commercial et car je suis cliente fidèle une compensation financière. Je suis vraiment déçue\\n        \"]"
      ]
     },
     "execution_count": 19,
     "metadata": {},
     "output_type": "execute_result"
    }
   ],
   "source": [
    "corpus = df['content'].tolist()\n",
    "corpus[:4]"
   ]
  },
  {
   "cell_type": "markdown",
   "metadata": {},
   "source": [
    "## To Lower"
   ]
  },
  {
   "cell_type": "code",
   "execution_count": 20,
   "metadata": {
    "ExecuteTime": {
     "end_time": "2020-01-29T12:58:28.924010Z",
     "start_time": "2020-01-29T12:58:28.907129Z"
    }
   },
   "outputs": [
    {
     "data": {
      "text/plain": [
       "['\\n            nous avons passé un excellent week-end, tout était bien entretenu\\n        ',\n",
       " \"\\n            parc très agréable, difficile de s'y retrouver au début. mais on s'y fait à la longue. le cottage un peu vieilli mais cela peut aller. au niveau cuisine, il manque un peu de choses (une vrai poele, des couverts en plus quand les premiers sont au lave vaisselle). cadre très agréable dans la foret surtout avec les fortes chaleurs. la location de la voiture électrique s'est bien passé et très vite (un peu cher sans doute pour la semaine !).\",\n",
       " '\\n            pas grand chose ne marche, ni l’internet, ni wifi (ce n’en serais pas trop important s’il y avait du réseau) les cottage sont mal entretenus, j’ai trouvé au petit matin une puce et un tique dans les draps. ',\n",
       " \"\\n            moi je vais parler aujourd'hui  du service commercial de center parc . j'ai fait une réservation pour deux nuits sur le site de center parcs au prix de 343 € quelques jours plus tard je vois sur vente-privee la même offre avec une nuit de plus pour 269€. lors ce que j'appelle le service pour obtenir un geste commercial sachant que je suis cliente fidèle il me réponde: pas de chance pour vous et puis vous n'avez pas pris d'assurance annulation. je leurs explique que je veux pas annuler mais a titre commercial et car je suis cliente fidèle une compensation financière. je suis vraiment déçue\\n        \"]"
      ]
     },
     "execution_count": 20,
     "metadata": {},
     "output_type": "execute_result"
    }
   ],
   "source": [
    "# Changing all characters to lower case. A machine makes a difference between p and P.\n",
    "corpus_l = [review.lower() for review in corpus]\n",
    "corpus_l[:4]"
   ]
  },
  {
   "cell_type": "markdown",
   "metadata": {},
   "source": [
    "## Removing ponctuation\n",
    "* The corpus needs some transformations, including changing letters to lower case, removing punctuation/numbers and special characters, etc.\n",
    "* In Python, we use various NLP libraries such as NLTK, Spacy, Scikit-Learn, Gensim etc…"
   ]
  },
  {
   "cell_type": "code",
   "execution_count": 21,
   "metadata": {
    "ExecuteTime": {
     "end_time": "2020-01-29T12:58:28.952932Z",
     "start_time": "2020-01-29T12:58:28.933859Z"
    }
   },
   "outputs": [
    {
     "data": {
      "text/plain": [
       "['\\n            nous avons passé un excellent week end  tout était bien entretenu\\n        ',\n",
       " '\\n            parc très agréable  difficile de s y retrouver au début  mais on s y fait à la longue  le cottage un peu vieilli mais cela peut aller  au niveau cuisine  il manque un peu de choses  une vrai poele  des couverts en plus quand les premiers sont au lave vaisselle   cadre très agréable dans la foret surtout avec les fortes chaleurs  la location de la voiture électrique s est bien passé et très vite  un peu cher sans doute pour la semaine    ',\n",
       " '\\n            pas grand chose ne marche  ni l internet  ni wifi  ce n en serais pas trop important s il y avait du réseau  les cottage sont mal entretenus  j ai trouvé au petit matin une puce et un tique dans les draps  ',\n",
       " '\\n            moi je vais parler aujourd hui  du service commercial de center parc   j ai fait une réservation pour deux nuits sur le site de center parcs au prix de 343 € quelques jours plus tard je vois sur vente privee la même offre avec une nuit de plus pour 269€  lors ce que j appelle le service pour obtenir un geste commercial sachant que je suis cliente fidèle il me réponde  pas de chance pour vous et puis vous n avez pas pris d assurance annulation  je leurs explique que je veux pas annuler mais a titre commercial et car je suis cliente fidèle une compensation financière  je suis vraiment déçue\\n        ']"
      ]
     },
     "execution_count": 21,
     "metadata": {},
     "output_type": "execute_result"
    }
   ],
   "source": [
    "# In most of the case punctuation do not help on understanding a sentence or a doc\n",
    "characters_to_remove = [\"@\", \"/\", \"#\", \".\", \",\", \"!\", \"?\", \"(\", \")\", \"-\", \"_\",\"’\",\"'\", \"\\\"\", \":\"]\n",
    "transformation_dict = {initial:\" \" for initial in characters_to_remove}\n",
    "no_punctuation_corpus = [review.translate(str.maketrans(transformation_dict)) for review in corpus_l]\n",
    "no_punctuation_corpus[:4]"
   ]
  },
  {
   "cell_type": "code",
   "execution_count": 22,
   "metadata": {},
   "outputs": [
    {
     "data": {
      "text/plain": [
       "{'@': ' ',\n",
       " '/': ' ',\n",
       " '#': ' ',\n",
       " '.': ' ',\n",
       " ',': ' ',\n",
       " '!': ' ',\n",
       " '?': ' ',\n",
       " '(': ' ',\n",
       " ')': ' ',\n",
       " '-': ' ',\n",
       " '_': ' ',\n",
       " '’': ' ',\n",
       " \"'\": ' ',\n",
       " '\"': ' ',\n",
       " ':': ' '}"
      ]
     },
     "execution_count": 22,
     "metadata": {},
     "output_type": "execute_result"
    }
   ],
   "source": [
    "transformation_dict"
   ]
  },
  {
   "cell_type": "code",
   "execution_count": null,
   "metadata": {},
   "outputs": [],
   "source": []
  },
  {
   "cell_type": "code",
   "execution_count": null,
   "metadata": {},
   "outputs": [],
   "source": []
  },
  {
   "cell_type": "markdown",
   "metadata": {},
   "source": [
    "## Removing accent\n",
    "* Some additional processing (removal of accent for instance) can be done on texts depending on the language\n",
    "* One can also apply those transformations to change punctuations into words eg: ‘#’  ‘hashtag’\n"
   ]
  },
  {
   "cell_type": "code",
   "execution_count": 23,
   "metadata": {
    "ExecuteTime": {
     "end_time": "2020-01-29T12:58:28.967627Z",
     "start_time": "2020-01-29T12:58:28.955590Z"
    }
   },
   "outputs": [
    {
     "data": {
      "text/plain": [
       "['\\n            nous avons passe un excellent week end  tout etait bien entretenu\\n        ',\n",
       " '\\n            parc tres agreable  difficile de s y retrouver au debut  mais on s y fait a la longue  le cottage un peu vieilli mais cela peut aller  au niveau cuisine  il manque un peu de choses  une vrai poele  des couverts en plus quand les premiers sont au lave vaisselle   cadre tres agreable dans la foret surtout avec les fortes chaleurs  la location de la voiture electrique s est bien passe et tres vite  un peu cher sans doute pour la semaine    ',\n",
       " '\\n            pas grand chose ne marche  ni l internet  ni wifi  ce n en serais pas trop important s il y avait du reseau  les cottage sont mal entretenus  j ai trouve au petit matin une puce et un tique dans les draps  ',\n",
       " '\\n            moi je vais parler aujourd hui  du service commercial de center parc   j ai fait une reservation pour deux nuits sur le site de center parcs au prix de 343 € quelques jours plus tard je vois sur vente privee la meme offre avec une nuit de plus pour 269€  lors ce que j appelle le service pour obtenir un geste commercial sachant que je suis cliente fidele il me reponde  pas de chance pour vous et puis vous n avez pas pris d assurance annulation  je leurs explique que je veux pas annuler mais a titre commercial et car je suis cliente fidele une compensation financiere  je suis vraiment deçue\\n        ']"
      ]
     },
     "execution_count": 23,
     "metadata": {},
     "output_type": "execute_result"
    }
   ],
   "source": [
    "# Very useful for some languages such as French\n",
    "with_accent = ['é', 'è', 'à', \"ê\"]\n",
    "without_accent = ['e', 'e', 'a', \"e\"]\n",
    "transformation_dict = {before:after for before, after in zip(with_accent, without_accent)}\n",
    "no_accent_corpus = [review.translate(str.maketrans(transformation_dict)) for review in no_punctuation_corpus]\n",
    "no_accent_corpus[:4]"
   ]
  },
  {
   "cell_type": "code",
   "execution_count": 24,
   "metadata": {},
   "outputs": [
    {
     "data": {
      "text/plain": [
       "{'é': 'e', 'è': 'e', 'à': 'a', 'ê': 'e'}"
      ]
     },
     "execution_count": 24,
     "metadata": {},
     "output_type": "execute_result"
    }
   ],
   "source": [
    "transformation_dict"
   ]
  },
  {
   "cell_type": "markdown",
   "metadata": {},
   "source": [
    "## Removing specific characters"
   ]
  },
  {
   "cell_type": "code",
   "execution_count": 25,
   "metadata": {
    "ExecuteTime": {
     "end_time": "2020-01-29T12:58:28.983894Z",
     "start_time": "2020-01-29T12:58:28.973033Z"
    }
   },
   "outputs": [
    {
     "data": {
      "text/plain": [
       "['            nous avons passe un excellent week end  tout etait bien entretenu        ',\n",
       " '            parc tres agreable  difficile de s y retrouver au debut  mais on s y fait a la longue  le cottage un peu vieilli mais cela peut aller  au niveau cuisine  il manque un peu de choses  une vrai poele  des couverts en plus quand les premiers sont au lave vaisselle   cadre tres agreable dans la foret surtout avec les fortes chaleurs  la location de la voiture electrique s est bien passe et tres vite  un peu cher sans doute pour la semaine    ',\n",
       " '            pas grand chose ne marche  ni l internet  ni wifi  ce n en serais pas trop important s il y avait du reseau  les cottage sont mal entretenus  j ai trouve au petit matin une puce et un tique dans les draps  ',\n",
       " '            moi je vais parler aujourd hui  du service commercial de center parc   j ai fait une reservation pour deux nuits sur le site de center parcs au prix de 343 € quelques jours plus tard je vois sur vente privee la meme offre avec une nuit de plus pour 269€  lors ce que j appelle le service pour obtenir un geste commercial sachant que je suis cliente fidele il me reponde  pas de chance pour vous et puis vous n avez pas pris d assurance annulation  je leurs explique que je veux pas annuler mais a titre commercial et car je suis cliente fidele une compensation financiere  je suis vraiment deçue        ']"
      ]
     },
     "execution_count": 25,
     "metadata": {},
     "output_type": "execute_result"
    }
   ],
   "source": [
    "clean_corpus = [review.replace(\"\\n\", \"\") for review in no_accent_corpus]\n",
    "clean_corpus[:4]"
   ]
  },
  {
   "cell_type": "markdown",
   "metadata": {},
   "source": [
    "## Tokenization"
   ]
  },
  {
   "cell_type": "code",
   "execution_count": 28,
   "metadata": {
    "ExecuteTime": {
     "end_time": "2020-01-29T12:58:29.018747Z",
     "start_time": "2020-01-29T12:58:28.988661Z"
    }
   },
   "outputs": [
    {
     "name": "stdout",
     "output_type": "stream",
     "text": [
      "['', 'nous', 'avons', 'passe', 'un', 'excellent', 'week', 'end', 'tout', 'etait', 'bien', 'entretenu', '']\n"
     ]
    }
   ],
   "source": [
    "# Using split\n",
    "tokenized_corpus_re = [re.split('\\s+', review) for review in clean_corpus]\n",
    "print(tokenized_corpus_re[0])"
   ]
  },
  {
   "cell_type": "code",
   "execution_count": 29,
   "metadata": {
    "ExecuteTime": {
     "end_time": "2020-01-29T12:58:29.163771Z",
     "start_time": "2020-01-29T12:58:29.022737Z"
    }
   },
   "outputs": [
    {
     "name": "stdout",
     "output_type": "stream",
     "text": [
      "['nous', 'avons', 'passe', 'un', 'excellent', 'week', 'end', 'tout', 'etait', 'bien', 'entretenu']\n"
     ]
    }
   ],
   "source": [
    "# using NLP libraries\n",
    "tokenized_corpus_nltk = [nltk.word_tokenize(review) for review in clean_corpus]\n",
    "print(tokenized_corpus_nltk[0])"
   ]
  },
  {
   "cell_type": "code",
   "execution_count": 30,
   "metadata": {
    "ExecuteTime": {
     "end_time": "2020-01-29T12:58:29.173052Z",
     "start_time": "2020-01-29T12:58:29.166041Z"
    }
   },
   "outputs": [
    {
     "data": {
      "text/plain": [
       "'passe'"
      ]
     },
     "execution_count": 30,
     "metadata": {},
     "output_type": "execute_result"
    }
   ],
   "source": [
    "tokenized_corpus_nltk[0][2]"
   ]
  },
  {
   "cell_type": "code",
   "execution_count": 31,
   "metadata": {
    "ExecuteTime": {
     "end_time": "2020-01-29T12:58:29.231406Z",
     "start_time": "2020-01-29T12:58:29.176924Z"
    }
   },
   "outputs": [
    {
     "name": "stdout",
     "output_type": "stream",
     "text": [
      "['nous', 'avons', 'passe', 'un', 'excellent', 'week', 'end', 'tout', 'etait', 'bien', 'entretenu']\n"
     ]
    }
   ],
   "source": [
    "from nltk.tokenize import TweetTokenizer\n",
    "new_tokenizer = TweetTokenizer()\n",
    "tokenized_corpus_tt = [new_tokenizer.tokenize(review) for review in clean_corpus]\n",
    "print(tokenized_corpus_tt[0])"
   ]
  },
  {
   "cell_type": "markdown",
   "metadata": {},
   "source": [
    "## Removing stop words\n",
    "* Stopwords make the text look heavier without bringing in meaning\n",
    "* Removing stop words reduces the dimensionality of term space\n",
    "* The most common words in text documents are articles, prepositions, and pro-nouns, etc. that does not bring meaning to the documents\n"
   ]
  },
  {
   "cell_type": "code",
   "execution_count": 32,
   "metadata": {
    "ExecuteTime": {
     "end_time": "2020-01-29T16:06:03.070020Z",
     "start_time": "2020-01-29T16:06:03.059521Z"
    }
   },
   "outputs": [],
   "source": [
    "sentence = \"I have been told that NLP is super cool and in high demand on the labour market\""
   ]
  },
  {
   "cell_type": "code",
   "execution_count": 33,
   "metadata": {
    "ExecuteTime": {
     "end_time": "2020-01-29T13:19:31.787961Z",
     "start_time": "2020-01-29T13:19:31.752973Z"
    }
   },
   "outputs": [
    {
     "data": {
      "text/plain": [
       "['do', 'if', 'off', 'as', 'above']"
      ]
     },
     "execution_count": 33,
     "metadata": {},
     "output_type": "execute_result"
    }
   ],
   "source": [
    "# Stop words are generally the most common words in a language, they do not \n",
    "import random\n",
    "stop_words = nltk.corpus.stopwords.words(\"english\")\n",
    "random.sample(stop_words, 5)"
   ]
  },
  {
   "cell_type": "code",
   "execution_count": 34,
   "metadata": {},
   "outputs": [
    {
     "data": {
      "text/plain": [
       "['i', 'me', 'my', 'myself', 'we', 'our', 'ours', 'ourselves', 'you', \"you're\"]"
      ]
     },
     "execution_count": 34,
     "metadata": {},
     "output_type": "execute_result"
    }
   ],
   "source": [
    "stop_words[:10]"
   ]
  },
  {
   "cell_type": "code",
   "execution_count": null,
   "metadata": {
    "ExecuteTime": {
     "end_time": "2020-01-29T13:19:31.888553Z",
     "start_time": "2020-01-29T13:19:31.884141Z"
    }
   },
   "outputs": [],
   "source": [
    "# stop_words"
   ]
  },
  {
   "cell_type": "code",
   "execution_count": 36,
   "metadata": {
    "ExecuteTime": {
     "end_time": "2020-01-29T13:19:32.099538Z",
     "start_time": "2020-01-29T13:19:32.094354Z"
    }
   },
   "outputs": [],
   "source": [
    "# Add a custom list \n",
    "my_stop_words = ['said', 'told']\n",
    "all_stop_words =  stop_words + my_stop_words"
   ]
  },
  {
   "cell_type": "code",
   "execution_count": 37,
   "metadata": {
    "ExecuteTime": {
     "end_time": "2020-01-29T16:07:48.204871Z",
     "start_time": "2020-01-29T16:07:48.164966Z"
    }
   },
   "outputs": [
    {
     "data": {
      "text/plain": [
       "['I', 'NLP', 'super', 'cool', 'high', 'demand', 'labour', 'market']"
      ]
     },
     "execution_count": 37,
     "metadata": {},
     "output_type": "execute_result"
    }
   ],
   "source": [
    "new_sentence = [token for token in nltk.word_tokenize(sentence) if token not in all_stop_words] \n",
    "new_sentence"
   ]
  },
  {
   "cell_type": "code",
   "execution_count": null,
   "metadata": {},
   "outputs": [],
   "source": []
  },
  {
   "cell_type": "code",
   "execution_count": null,
   "metadata": {},
   "outputs": [],
   "source": []
  },
  {
   "cell_type": "markdown",
   "metadata": {},
   "source": [
    "# NGrams"
   ]
  },
  {
   "cell_type": "code",
   "execution_count": 38,
   "metadata": {},
   "outputs": [
    {
     "data": {
      "text/plain": [
       "['I am learning Natural Language Processing.',\n",
       " 'I am learning how to tokenize!']"
      ]
     },
     "execution_count": 38,
     "metadata": {},
     "output_type": "execute_result"
    }
   ],
   "source": [
    "phrase = \"I am learning Natural Language Processing. I am learning how to tokenize!\"\n",
    "tokens_sent = nltk.sent_tokenize(phrase)\n",
    "tokens_sent"
   ]
  },
  {
   "cell_type": "code",
   "execution_count": 53,
   "metadata": {},
   "outputs": [
    {
     "name": "stdout",
     "output_type": "stream",
     "text": [
      "['I', 'am', 'learning', 'Natural', 'Language', 'Processing', '.']\n",
      "['I', 'am', 'learning', 'how', 'to', 'tokenize', '!']\n"
     ]
    }
   ],
   "source": [
    "tokens = []\n",
    "for item in tokens_sent:\n",
    "    print(nltk.word_tokenize(item))\n",
    "    tokens.append(nltk.word_tokenize(item))"
   ]
  },
  {
   "cell_type": "code",
   "execution_count": 40,
   "metadata": {},
   "outputs": [
    {
     "data": {
      "text/plain": [
       "[['I', 'am', 'learning', 'Natural', 'Language', 'Processing', '.'],\n",
       " ['I', 'am', 'learning', 'how', 'to', 'tokenize', '!']]"
      ]
     },
     "execution_count": 40,
     "metadata": {},
     "output_type": "execute_result"
    }
   ],
   "source": [
    "tokens"
   ]
  },
  {
   "cell_type": "code",
   "execution_count": 42,
   "metadata": {},
   "outputs": [
    {
     "name": "stdout",
     "output_type": "stream",
     "text": [
      "['I', 'am', 'learning', 'Natural', 'Language', 'Processing.']\n",
      "['I', 'am', 'learning', 'how', 'to', 'tokenize!']\n"
     ]
    }
   ],
   "source": [
    "tokens_bis = []\n",
    "for item in tokens_sent:\n",
    "    print(item.split(' '))\n",
    "    tokens_bis.append(item.split(' '))"
   ]
  },
  {
   "cell_type": "code",
   "execution_count": 43,
   "metadata": {},
   "outputs": [
    {
     "data": {
      "text/plain": [
       "[('I', 'am'),\n",
       " ('am', 'learning'),\n",
       " ('learning', 'Natural'),\n",
       " ('Natural', 'Language'),\n",
       " ('Language', 'Processing'),\n",
       " ('Processing', '.')]"
      ]
     },
     "execution_count": 43,
     "metadata": {},
     "output_type": "execute_result"
    }
   ],
   "source": [
    "# Identifying bigrams for our first sentence\n",
    "bigrams =  nltk.bigrams(tokens[0])\n",
    "list_bigram = []\n",
    "for item in bigrams:\n",
    "    list_bigram.append(item)\n",
    "list_bigram"
   ]
  },
  {
   "cell_type": "code",
   "execution_count": 44,
   "metadata": {},
   "outputs": [
    {
     "name": "stdout",
     "output_type": "stream",
     "text": [
      "('I', 'am', 'learning')\n",
      "('am', 'learning', 'Natural')\n",
      "('learning', 'Natural', 'Language')\n",
      "('Natural', 'Language', 'Processing')\n",
      "('Language', 'Processing', '.')\n"
     ]
    }
   ],
   "source": [
    "trigrams =  nltk.trigrams(tokens[0])\n",
    "list_trigram = []\n",
    "for item in trigrams:\n",
    "    print(item)\n",
    "    list_trigram.append(item)"
   ]
  },
  {
   "cell_type": "code",
   "execution_count": 46,
   "metadata": {},
   "outputs": [
    {
     "data": {
      "text/plain": [
       "['I',\n",
       " 'am',\n",
       " 'learning',\n",
       " 'Natural',\n",
       " 'Language',\n",
       " 'Processing',\n",
       " '.',\n",
       " ('I', 'am'),\n",
       " ('am', 'learning'),\n",
       " ('learning', 'Natural'),\n",
       " ('Natural', 'Language'),\n",
       " ('Language', 'Processing'),\n",
       " ('Processing', '.'),\n",
       " ('I', 'am', 'learning'),\n",
       " ('am', 'learning', 'Natural'),\n",
       " ('learning', 'Natural', 'Language'),\n",
       " ('Natural', 'Language', 'Processing'),\n",
       " ('Language', 'Processing', '.')]"
      ]
     },
     "execution_count": 46,
     "metadata": {},
     "output_type": "execute_result"
    }
   ],
   "source": [
    "all_tokens = tokens[0] + list_bigram + list_trigram\n",
    "all_tokens"
   ]
  },
  {
   "cell_type": "code",
   "execution_count": 50,
   "metadata": {},
   "outputs": [],
   "source": [
    "tokens"
   ]
  },
  {
   "cell_type": "code",
   "execution_count": 54,
   "metadata": {},
   "outputs": [
    {
     "data": {
      "text/plain": [
       "[(['I', 'am', 'learning', 'Natural', 'Language', 'Processing', '.'],),\n",
       " (['I', 'am', 'learning', 'how', 'to', 'tokenize', '!'],)]"
      ]
     },
     "execution_count": 54,
     "metadata": {},
     "output_type": "execute_result"
    }
   ],
   "source": [
    "list(nltk.ngrams(tokens, n=0))"
   ]
  },
  {
   "cell_type": "code",
   "execution_count": 55,
   "metadata": {},
   "outputs": [
    {
     "data": {
      "text/plain": [
       "[(['I', 'am', 'learning', 'Natural', 'Language', 'Processing', '.'],),\n",
       " (['I', 'am', 'learning', 'how', 'to', 'tokenize', '!'],)]"
      ]
     },
     "execution_count": 55,
     "metadata": {},
     "output_type": "execute_result"
    }
   ],
   "source": [
    "list(nltk.ngrams(tokens, n=1))"
   ]
  },
  {
   "cell_type": "code",
   "execution_count": 56,
   "metadata": {},
   "outputs": [
    {
     "data": {
      "text/plain": [
       "[(['I', 'am', 'learning', 'Natural', 'Language', 'Processing', '.'],\n",
       "  ['I', 'am', 'learning', 'how', 'to', 'tokenize', '!'])]"
      ]
     },
     "execution_count": 56,
     "metadata": {},
     "output_type": "execute_result"
    }
   ],
   "source": [
    "list(nltk.ngrams(tokens, n=2))"
   ]
  },
  {
   "cell_type": "code",
   "execution_count": 57,
   "metadata": {},
   "outputs": [
    {
     "data": {
      "text/plain": [
       "[]"
      ]
     },
     "execution_count": 57,
     "metadata": {},
     "output_type": "execute_result"
    }
   ],
   "source": [
    "list(nltk.ngrams(tokens, n=3))"
   ]
  },
  {
   "cell_type": "code",
   "execution_count": null,
   "metadata": {},
   "outputs": [],
   "source": [
    "Alan Turing\n",
    "Andrew NG\n",
    "\n",
    "Fei-Fei Lee\n",
    "\n",
    "Geoffrey Hinton\n",
    "\n",
    "Katherine Johnson\n",
    "\n",
    "Yoshua Bengio\n",
    "\n",
    "Yann LeCun"
   ]
  },
  {
   "cell_type": "code",
   "execution_count": null,
   "metadata": {},
   "outputs": [],
   "source": []
  }
 ],
 "metadata": {
  "kernelspec": {
   "display_name": "Python 3.7.6 64-bit",
   "language": "python",
   "name": "python37664bit5f487552af23408d96651441c553ec9c"
  },
  "language_info": {
   "codemirror_mode": {
    "name": "ipython",
    "version": 3
   },
   "file_extension": ".py",
   "mimetype": "text/x-python",
   "name": "python",
   "nbconvert_exporter": "python",
   "pygments_lexer": "ipython3",
   "version": "3.7.6"
  },
  "toc": {
   "base_numbering": 1,
   "nav_menu": {},
   "number_sections": true,
   "sideBar": true,
   "skip_h1_title": false,
   "title_cell": "Table of Contents",
   "title_sidebar": "Contents",
   "toc_cell": false,
   "toc_position": {},
   "toc_section_display": true,
   "toc_window_display": false
  }
 },
 "nbformat": 4,
 "nbformat_minor": 4
}
